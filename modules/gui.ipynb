{
 "cells": [
  {
   "cell_type": "code",
   "execution_count": 1,
   "metadata": {
    "scrolled": false
   },
   "outputs": [],
   "source": [
    "# Copyright (c) Stef van der Struijk\n",
    "# License: GNU Lesser General Public License\n",
    "import sys\n",
    "sys.path.append(\".\")\n",
    "from controller import Controller\n",
    "from ipywidgets import interact, interactive, interactive_output, HBox, Label, Layout\n",
    "import ipywidgets as widgets"
   ]
  },
  {
   "cell_type": "code",
   "execution_count": 2,
   "metadata": {
    "scrolled": false
   },
   "outputs": [
    {
     "name": "stdout",
     "output_type": "stream",
     "text": [
      "Current libzmq version is 4.2.5\n",
      "Current  pyzmq version is 17.0.0\n",
      "Publisher port is specified\n",
      "Creating ZeroMQ context on: tcp://192.168.11.12:5570\n",
      "Connect to tcp://192.168.11.12:5570 successful\n",
      "Publisher socket set-up complete\n",
      "port_sub not specified, not setting-up subscriber\n",
      "ZeroMQ sockets successfully set-up\n",
      "\n",
      "init done\n"
     ]
    }
   ],
   "source": [
    "# restart kernel if changes made to .py file\n",
    "controller = Controller(pub_ip=\"192.168.11.12\", pub_port=5570, pub_key=\"command.multiplier\", pub_bind=False)"
   ]
  },
  {
   "cell_type": "code",
   "execution_count": null,
   "metadata": {
    "scrolled": false
   },
   "outputs": [],
   "source": [
    "# set AU multiplier\n",
    "@interact(\n",
    "    AU01=(0.0,2.0,0.05),\n",
    "    AU02=(0.0,2.0,0.05),\n",
    "    AU04=(0.0,2.0,0.05),\n",
    "    AU05=(0.0,2.0,0.05),\n",
    "    AU06=(0.0,2.0,0.05),\n",
    "    AU07=(0.0,2.0,0.05),\n",
    "    AU09=(0.0,2.0,0.05),\n",
    "    AU10=(0.0,2.0,0.05),\n",
    "    AU12=(0.0,2.0,0.05),\n",
    "    AU14=(0.0,2.0,0.05),\n",
    "    AU15=(0.0,2.0,0.05),\n",
    "    AU17=(0.0,2.0,0.05),\n",
    "    AU20=(0.0,2.0,0.05),\n",
    "    AU23=(0.0,2.0,0.05),\n",
    "    AU25=(0.0,2.0,0.05),\n",
    "    AU26=(0.0,2.0,0.05),\n",
    "    AU45=(0.0,2.0,0.05))\n",
    "def f(**kwargs):\n",
    "    # print(type(kwargs['AU25']))\n",
    "    controller.multiplier(kwargs)\n",
    "    #return kwargs"
   ]
  },
  {
   "cell_type": "code",
   "execution_count": 12,
   "metadata": {
    "scrolled": false
   },
   "outputs": [
    {
     "data": {
      "application/vnd.jupyter.widget-view+json": {
       "model_id": "d3ef87a3052246879a9d4f4b36b4d500",
       "version_major": 2,
       "version_minor": 0
      },
      "text/plain": [
       "HBox(children=(interactive(children=(FloatSlider(value=1.0, description='AU01: Inner brow raiser', layout=Layo…"
      ]
     },
     "metadata": {},
     "output_type": "display_data"
    }
   ],
   "source": [
    "# AU sliders\n",
    "au_descriptions = {\n",
    "    \"AU01\": \"Inner brow raiser\",\n",
    "    \"AU02\": \"Outer brow raiser\",\n",
    "    \"AU04\": \"Brow lowerer\",\n",
    "    \"AU05\": \"Upper lid raiser\",\n",
    "    \"AU06\": \"Cheek raiser\",\n",
    "    \"AU07\": \"Lid tightener\",\n",
    "    \"AU09\": \"Nose wrinkler\",\n",
    "    \"AU10\": \"Upper lip raiser\",\n",
    "    \"AU12\": \"Lip corner puller\",\n",
    "    \"AU14\": \"Dimpler\",\n",
    "    \"AU15\": \"Lip corner depressor\",\n",
    "    \"AU17\": \"Chin raiser\",\n",
    "    \"AU20\": \"Lip stretcher\",\n",
    "    \"AU23\": \"Lip tightener\",\n",
    "    \"AU25\": \"Lips part\",\n",
    "    \"AU26\": \"Jaw drop\",\n",
    "    \"AU45\": \"Blink\"\n",
    "}\n",
    "\n",
    "# create float sliders for every AU\n",
    "style = {'description_width': '170px'}\n",
    "au_dict = {}\n",
    "for au, desc in au_descriptions.items():\n",
    "    au_dict[au] = widgets.FloatSlider(value=1.0, min=0.0, max=2.0, step=0.05, style=style,\n",
    "                                      layout=Layout(width='500px'),\n",
    "                                      description=\"{}: {}\".format(au, desc))\n",
    "    \n",
    "# increase blink multiplier by default\n",
    "au_dict['AU45'].value = 1.5\n",
    "\n",
    "# print(au_dict['AU01'].style.keys)\n",
    "\n",
    "def view_multiplier(**kwargs):\n",
    "    controller.multiplier(kwargs)\n",
    "    return kwargs\n",
    "    \n",
    "\n",
    "    \n",
    "    \n",
    "\n",
    "# emotion sliders\n",
    "emo_list = [\n",
    "    \"Happiness\",\n",
    "    \"Sadness\",\n",
    "    \"Surprise\",\n",
    "    \"Fear\",\n",
    "    \"Anger\",\n",
    "    \"Disgust\"\n",
    "]\n",
    "\n",
    "# create float sliders for every AU\n",
    "style2 = {'description_width': '80px'}\n",
    "emo_dict = {}\n",
    "for emo in emo_list:\n",
    "    emo_dict[emo] = widgets.FloatSlider(value=0.0, min=-1.0, max=1.0, step=0.05, style=style2,\n",
    "                                  layout=Layout(width='400px'),\n",
    "                                  description=emo)\n",
    "\n",
    "au_dict_emo = {\n",
    "    \"AU01\": 1.0,\n",
    "    \"AU02\": 1.0,\n",
    "    \"AU04\": 1.0,\n",
    "    \"AU05\": 1.0,\n",
    "    \"AU06\": 1.0,\n",
    "    \"AU07\": 1.0,\n",
    "    \"AU09\": 1.0,\n",
    "    \"AU12\": 1.0,\n",
    "    \"AU15\": 1.0,\n",
    "#     \"AU16\": 1.0,\n",
    "    \"AU20\": 1.0,\n",
    "    \"AU23\": 1.0,\n",
    "    \"AU25\": 1.0,\n",
    "    \"AU26\": 1.0\n",
    "}\n",
    "# print(au_dict_emo)\n",
    "\n",
    "\n",
    "def emotion_au(**kwargs):\n",
    "#     print(kwargs)\n",
    "    \n",
    "    # reset all AU values\n",
    "    for au, val in au_dict_emo.items():\n",
    "        au_dict_emo[au] = 1.0\n",
    "        \n",
    "    # happiness\n",
    "    au_dict_emo[\"AU06\"] += kwargs['Happiness']\n",
    "    au_dict_emo[\"AU12\"] += kwargs['Happiness']\n",
    "    \n",
    "    # Sadness\n",
    "    au_dict_emo[\"AU01\"] += kwargs['Sadness']\n",
    "    au_dict_emo[\"AU04\"] += kwargs['Sadness']\n",
    "    au_dict_emo[\"AU15\"] += kwargs['Sadness']\n",
    "    \n",
    "    # Surprise\n",
    "    au_dict_emo[\"AU01\"] += kwargs['Surprise']\n",
    "    au_dict_emo[\"AU02\"] += kwargs['Surprise']\n",
    "    au_dict_emo[\"AU05\"] += kwargs['Surprise']\n",
    "    au_dict_emo[\"AU26\"] += kwargs['Surprise']\n",
    "    \n",
    "    # Fear\n",
    "    au_dict_emo[\"AU01\"] += kwargs['Fear']\n",
    "    au_dict_emo[\"AU02\"] += kwargs['Fear']\n",
    "    au_dict_emo[\"AU04\"] += kwargs['Fear']\n",
    "    au_dict_emo[\"AU05\"] += kwargs['Fear']\n",
    "    au_dict_emo[\"AU07\"] += kwargs['Fear']\n",
    "    au_dict_emo[\"AU20\"] += kwargs['Fear']\n",
    "    au_dict_emo[\"AU26\"] += kwargs['Fear']\n",
    "    \n",
    "    # Anger\n",
    "    au_dict_emo[\"AU04\"] += kwargs['Anger']\n",
    "    au_dict_emo[\"AU05\"] += kwargs['Anger']\n",
    "    au_dict_emo[\"AU07\"] += kwargs['Anger']\n",
    "    au_dict_emo[\"AU23\"] += kwargs['Anger']\n",
    "    \n",
    "    # Disgust\n",
    "    au_dict_emo[\"AU09\"] += kwargs['Disgust']\n",
    "    au_dict_emo[\"AU15\"] += kwargs['Disgust']\n",
    "    au_dict_emo[\"AU25\"] += kwargs['Disgust']\n",
    "    \n",
    "    \n",
    "    # set AU slider values\n",
    "    for au, val in au_dict_emo.items():\n",
    "        au_dict[au].value = val\n",
    "    \n",
    "    return kwargs\n",
    "\n",
    "   \n",
    "    \n",
    "    \n",
    "w = interactive(view_multiplier, **au_dict)\n",
    "w2 = interactive(emotion_au, **emo_dict)\n",
    "# w3 = interactive(emotion_au2, emo_sad=emo_sad)\n",
    "\n",
    "\n",
    "\n",
    "# emo = [w2, w3]\n",
    "# print(w.children)\n",
    "display(HBox([w, w2]))"
   ]
  },
  {
   "cell_type": "code",
   "execution_count": null,
   "metadata": {},
   "outputs": [],
   "source": [
    "# emotion sliders\n",
    "emo_hap = widgets.FloatSlider(value=1.0, min=0.0, max=2.0, step=0.05, style={'description_width': '80px'},\n",
    "                                      layout=Layout(width='600px'),\n",
    "                                      description=\"Happiness\")\n",
    "\n",
    "def emotion_au(emo_hap):\n",
    "    print(emo_hap)\n",
    "    return emo_hap\n",
    "\n",
    "w3 = interactive(emotion_au, emo_hap=emo_hap)\n",
    "display(w3)"
   ]
  },
  {
   "cell_type": "code",
   "execution_count": null,
   "metadata": {},
   "outputs": [],
   "source": []
  }
 ],
 "metadata": {
  "kernelspec": {
   "display_name": "py3 facsvatar",
   "language": "python",
   "name": "python3"
  },
  "language_info": {
   "codemirror_mode": {
    "name": "ipython",
    "version": 3
   },
   "file_extension": ".py",
   "mimetype": "text/x-python",
   "name": "python",
   "nbconvert_exporter": "python",
   "pygments_lexer": "ipython3",
   "version": "3.6.5"
  }
 },
 "nbformat": 4,
 "nbformat_minor": 2
}
